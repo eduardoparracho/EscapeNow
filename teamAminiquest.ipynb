{
  "cells": [
    {
      "cell_type": "code",
      "execution_count": 1,
      "metadata": {
        "id": "NOLwtHgy1qGn"
      },
      "outputs": [],
      "source": [
        "# define rooms and items\n",
        "\n",
        "door_a = {\n",
        "    \"name\": \"door a\",\n",
        "    \"type\": \"door\",\n",
        "}\n",
        "\n",
        "door_b = {\n",
        "    \"name\": \"door b\",\n",
        "    \"type\": \"door\",\n",
        "}\n",
        "\n",
        "door_c = {\n",
        "    \"name\": \"door c\",\n",
        "    \"type\": \"door\",\n",
        "}\n",
        "\n",
        "door_d = {\n",
        "    \"name\": \"door d\",\n",
        "    \"type\": \"door\",\n",
        "}\n",
        "\n",
        "\n",
        "key_a = {\n",
        "    \"name\": \"key for door a\",\n",
        "    \"type\": \"key\",\n",
        "    \"target\": 'door a',\n",
        "}\n",
        "\n",
        "key_b = {\n",
        "    \"name\": \"key for door b\",\n",
        "    \"type\": \"key\",\n",
        "    \"target\": 'door b',\n",
        "}\n",
        "\n",
        "key_c = {\n",
        "    \"name\": \"key for door c\",\n",
        "    \"type\": \"key\",\n",
        "    \"target\": 'door c',\n",
        "}\n",
        "\n",
        "key_d = {\n",
        "    \"name\": \"key for door d\",\n",
        "    \"type\": \"key\",\n",
        "    \"target\": 'door d',\n",
        "}\n",
        "\n",
        "piano = {\n",
        "    \"name\": \"piano\",\n",
        "    \"type\": \"furniture\",\n",
        "}\n",
        "\n",
        "couch = {\n",
        "    \"name\": \"couch\",\n",
        "    \"type\": \"furniture\",\n",
        "}\n",
        "\n",
        "dining_table = {\n",
        "    \"name\": \"dining table\",\n",
        "    \"type\": \"furniture\",\n",
        "}\n",
        "\n",
        "double_bed = {\n",
        "    \"name\": \"double bed\",\n",
        "    \"type\": \"furniture\",\n",
        "}\n",
        "\n",
        "queen_bed = {\n",
        "    \"name\": \"queen bed\",\n",
        "    \"type\": \"furniture\",\n",
        "}\n",
        "\n",
        "dresser = {\n",
        "    \"name\": \"dresser\",\n",
        "    \"type\": \"furniture\",\n",
        "}\n",
        "\n",
        "game_room = {\n",
        "    \"name\": \"game room\",\n",
        "    \"type\": \"room\",\n",
        "}\n",
        "\n",
        "bedroom_01 = {\n",
        "    \"name\": \"bedroom 1\",\n",
        "    \"type\": \"room\",\n",
        "}\n",
        "\n",
        "bedroom_02 = {\n",
        "    \"name\": \"bedroom 2\",\n",
        "    \"type\": \"room\",\n",
        "}\n",
        "\n",
        "living_room = {\n",
        "    \"name\": \"living room\",\n",
        "    \"type\": \"room\",\n",
        "}\n",
        "\n",
        "outside = {\n",
        "  \"name\": \"outside\"\n",
        "}\n",
        "\n",
        "all_rooms = [game_room, bedroom_01, bedroom_02, living_room, outside]\n",
        "\n",
        "all_doors = [door_a, door_b, door_c, door_d]\n",
        "\n",
        "# define which items/rooms are related\n",
        "\n",
        "object_relations = {\n",
        "    \"game room\": [couch, piano, door_a],\n",
        "    \"piano\": [key_a],\n",
        "    \"bedroom 1\" : [queen_bed, door_b, door_c],\n",
        "    \"bedroom 2\" : [double_bed, dresser, door_b],\n",
        "    \"double bed\" : [key_c],\n",
        "    \"queen bed\" : [key_b],\n",
        "    \"dresser\" : [key_d],\n",
        "    'living room' : [dining_table, door_d],\n",
        "    \"outside\" : [door_d],\n",
        "    \"door a\" : [game_room, bedroom_01],\n",
        "    \"door b\" : [bedroom_01, bedroom_02],\n",
        "    \"door c\" : [bedroom_01, living_room],\n",
        "    'door d' : [living_room, outside]\n",
        "}\n",
        "\n",
        "# define game state. Do not directly change this dict.\n",
        "# Instead, when a new game starts, make a copy of this\n",
        "# dict and use the copy to store gameplay state. This\n",
        "# way you can replay the game multiple times.\n",
        "\n",
        "INIT_GAME_STATE = {\n",
        "    \"current_room\": game_room,\n",
        "    \"keys_collected\": [],\n",
        "    \"target_room\": outside\n",
        "}\n",
        "\n",
        "from datetime import datetime\n",
        "\n",
        "import time\n",
        "\n",
        "from rich import print"
      ]
    },
    {
      "cell_type": "code",
      "execution_count": 15,
      "metadata": {
        "id": "BR4xV2BN1qGo"
      },
      "outputs": [],
      "source": [
        "def player_input(prompt, possible_inputs):\n",
        "    intended_action = ''\n",
        "\n",
        "    while intended_action not in possible_inputs:\n",
        "      try:\n",
        "        intended_action = input(prompt).strip().lower()\n",
        "\n",
        "        if intended_action not in possible_inputs:\n",
        "          raise ValueError(\"Selected action not available\")\n",
        "\n",
        "      except ValueError as error:\n",
        "        print(\"Error: \", error)\n",
        "\n",
        "\n",
        "    return intended_action\n",
        "\n",
        "def linebreak():\n",
        "    \"\"\"\n",
        "    Print a line break\n",
        "    \"\"\"\n",
        "    print(\"\\n\\n\")\n",
        "\n",
        "def start_game():\n",
        "    \"\"\"\n",
        "    Start the game\n",
        "    \"\"\"\n",
        "    print(\"You wake up on a couch and find yourself in a strange house\\nwith no windows which you have never been to before.\\nYou don't remember why you are here and what had happened before.\\nYou feel some unknown danger is approaching and you [bold underline red]must\\nget out of the house, NOW[/bold underline red]!\")\n",
        "    time.sleep(2)\n",
        "    print(\"\\n\")\n",
        "    print(\"Don't hurry me, I need to wake up too! Now, we can get started...\")\n",
        "    time.sleep(2)\n",
        "    print(\"\\n\")\n",
        "    print(\"┏(-_-)┛┗(-_- )┓┗(-_-)┛┏(-_-)┓\")\n",
        "    time.sleep(2)\n",
        "    play_room(game_state[\"current_room\"], True)\n",
        "\n",
        "def play_room(room, first_time):\n",
        "    \"\"\"\n",
        "    Play a room. First check if the room being played is the target room.\n",
        "    If it is, the game will end with success. Otherwise, let player either\n",
        "    explore (list all items in this room) or examine an item found here.\n",
        "    \"\"\"\n",
        "    game_state[\"current_room\"] = room\n",
        "\n",
        "    if(game_state[\"current_room\"] == game_state[\"target_room\"]):\n",
        "        print(\"\\n\")\n",
        "        print(\"Congrats! You escaped the room!\")\n",
        "    else:\n",
        "        print(\"\\n\")\n",
        "        if first_time:\n",
        "          print(\"You are in the \" + room[\"name\"])\n",
        "        inputslist = [\"explore\", \"date\", \"examine\"]\n",
        "        print(\"\\n\")\n",
        "        print(\"You can explore the room with 'explore',\")\n",
        "        print(\"You can examine an item with 'examine', or\")\n",
        "        print(\"You can check today's date with 'date'.\\n\")\n",
        "\n",
        "        intended_action = player_input(\"What would you like to do? \", inputslist)\n",
        "\n",
        "        if intended_action == \"explore\":\n",
        "            print(\"\\n\")\n",
        "            explore_room(room)\n",
        "            play_room(room, False)\n",
        "\n",
        "        elif intended_action == \"date\":\n",
        "            now = datetime.now()\n",
        "            print(\"\\n\")\n",
        "            print(f\"Oookay, why do you even need to know this now, just check your calendar - today is the {now:%d.%m.%Y}\\n\\nBUT more importantly!!: time is running, so you better choose a different option now!\")\n",
        "            play_room(room, False)\n",
        "\n",
        "        elif intended_action == \"examine\":\n",
        "            print(\"\\n\")\n",
        "            items = [i[\"name\"] for i in object_relations[room[\"name\"]]]\n",
        "            print(\"Here you find '\" + \"', '\".join(items) + \"'\")\n",
        "            print(\"\\n\")\n",
        "            examine_item(input(\"Which object would you like to examine? \").strip()).lower()\n",
        "        linebreak()\n",
        "\n",
        "def explore_room(room):\n",
        "    \"\"\"\n",
        "    Explore a room. List all items belonging to this room.\n",
        "    \"\"\"\n",
        "    items = [i[\"name\"] for i in object_relations[room[\"name\"]]]\n",
        "    print(\"You explore the room. This is the \" + room[\"name\"] + \". You find '\" + \"', '\".join(items) + \"'\")\n",
        "\n",
        "def get_next_room_of_door(door, current_room):\n",
        "    \"\"\"\n",
        "    From object_relations, find the two rooms connected to the given door.\n",
        "    Return the room that is not the current_room.\n",
        "    \"\"\"\n",
        "    connected_rooms = object_relations[door[\"name\"]]\n",
        "    for room in connected_rooms:\n",
        "        if(not current_room == room):\n",
        "            return room\n",
        "\n",
        "def examine_item(item_name):\n",
        "    \"\"\"\n",
        "    Examine an item which can be a door or furniture.\n",
        "    First make sure the intended item belongs to the current room.\n",
        "    Then check if the item is a door. Tell player if key hasn't been\n",
        "    collected yet. Otherwise ask player if they want to go to the next\n",
        "    room. If the item is not a door, then check if it contains keys.\n",
        "    Collect the key if found and update the game state. At the end,\n",
        "    play either the current or the next room depending on the game state\n",
        "    to keep playing.\n",
        "    \"\"\"\n",
        "    current_room = game_state[\"current_room\"]\n",
        "    next_room = \"\"\n",
        "    output = None\n",
        "\n",
        "    for item in object_relations[current_room[\"name\"]]:\n",
        "        if item[\"name\"] == item_name:\n",
        "            print(\"\\n\")\n",
        "            output = \"You are now examining \" + item_name + \". \"\n",
        "            if item[\"type\"] == \"door\":\n",
        "                have_key = False\n",
        "                for key in game_state[\"keys_collected\"]:\n",
        "                    if key[\"target\"] == item['name']:\n",
        "                        have_key = True\n",
        "                if(have_key):\n",
        "                    output += \"You unlock it with a key you have.\"\n",
        "                    next_room = get_next_room_of_door(item, current_room)\n",
        "                else:\n",
        "                    output += \"[bold underline red]It is locked but you don't have the key.[/bold underline red]\"\n",
        "            else:\n",
        "                if(item[\"name\"] in object_relations and len(object_relations[item[\"name\"]])>0):\n",
        "                    item_found = object_relations[item[\"name\"]][0]\n",
        "                    game_state[\"keys_collected\"].append(item_found)\n",
        "                    output += \"You find the \" + item_found[\"name\"] + \".\"\n",
        "                else:\n",
        "                    output += \"Sadly, this\" + \" \" + item[\"name\"] + \" \" + \"is rather boring. Stay curios!\"\n",
        "            print(output)\n",
        "            break\n",
        "\n",
        "    if(output is None):\n",
        "        print(\"The item you requested is not found in the current room.\")\n",
        "\n",
        "    if(next_room and input(\"Do you want to go to the next room? Enter 'yes' or 'no' \").strip().lower() == 'yes'):\n",
        "        play_room(next_room, True)\n",
        "    else:\n",
        "        play_room(current_room, False)\n",
        "    linebreak()\n",
        "\n"
      ]
    },
    {
      "cell_type": "code",
      "execution_count": null,
      "metadata": {
        "colab": {
          "base_uri": "https://localhost:8080/",
          "height": 616
        },
        "id": "PT-vxyRQ1qGo",
        "outputId": "72205753-aa9a-4719-915f-7e02576c03b4"
      },
      "outputs": [
        {
          "data": {
            "text/html": [
              "<pre style=\"white-space:pre;overflow-x:auto;line-height:normal;font-family:Menlo,'DejaVu Sans Mono',consolas,'Courier New',monospace\">You wake up on a couch and find yourself in a strange house\n",
              "with no windows which you have never been to before.\n",
              "You don't remember why you are here and what had happened before.\n",
              "You feel some unknown danger is approaching and you <span style=\"color: #800000; text-decoration-color: #800000; font-weight: bold; text-decoration: underline\">must</span>\n",
              "<span style=\"color: #800000; text-decoration-color: #800000; font-weight: bold; text-decoration: underline\">get out of the house, NOW</span>!\n",
              "</pre>\n"
            ],
            "text/plain": [
              "You wake up on a couch and find yourself in a strange house\n",
              "with no windows which you have never been to before.\n",
              "You don't remember why you are here and what had happened before.\n",
              "You feel some unknown danger is approaching and you \u001b[1;4;31mmust\u001b[0m\n",
              "\u001b[1;4;31mget out of the house, NOW\u001b[0m!\n"
            ]
          },
          "metadata": {},
          "output_type": "display_data"
        },
        {
          "data": {
            "text/html": [
              "<pre style=\"white-space:pre;overflow-x:auto;line-height:normal;font-family:Menlo,'DejaVu Sans Mono',consolas,'Courier New',monospace\">\n",
              "\n",
              "</pre>\n"
            ],
            "text/plain": [
              "\n",
              "\n"
            ]
          },
          "metadata": {},
          "output_type": "display_data"
        },
        {
          "data": {
            "text/html": [
              "<pre style=\"white-space:pre;overflow-x:auto;line-height:normal;font-family:Menlo,'DejaVu Sans Mono',consolas,'Courier New',monospace\">Don't hurry me, I need to wake up too! Now, we can get started<span style=\"color: #808000; text-decoration-color: #808000\">...</span>\n",
              "</pre>\n"
            ],
            "text/plain": [
              "Don't hurry me, I need to wake up too! Now, we can get started\u001b[33m...\u001b[0m\n"
            ]
          },
          "metadata": {},
          "output_type": "display_data"
        },
        {
          "data": {
            "text/html": [
              "<pre style=\"white-space:pre;overflow-x:auto;line-height:normal;font-family:Menlo,'DejaVu Sans Mono',consolas,'Courier New',monospace\">\n",
              "\n",
              "</pre>\n"
            ],
            "text/plain": [
              "\n",
              "\n"
            ]
          },
          "metadata": {},
          "output_type": "display_data"
        },
        {
          "data": {
            "text/html": [
              "<pre style=\"white-space:pre;overflow-x:auto;line-height:normal;font-family:Menlo,'DejaVu Sans Mono',consolas,'Courier New',monospace\">┏<span style=\"font-weight: bold\">(</span>-_-<span style=\"font-weight: bold\">)</span>┛┗<span style=\"font-weight: bold\">(</span>-_- <span style=\"font-weight: bold\">)</span>┓┗<span style=\"font-weight: bold\">(</span>-_-<span style=\"font-weight: bold\">)</span>┛┏<span style=\"font-weight: bold\">(</span>-_-<span style=\"font-weight: bold\">)</span>┓\n",
              "</pre>\n"
            ],
            "text/plain": [
              "┏\u001b[1m(\u001b[0m-_-\u001b[1m)\u001b[0m┛┗\u001b[1m(\u001b[0m-_- \u001b[1m)\u001b[0m┓┗\u001b[1m(\u001b[0m-_-\u001b[1m)\u001b[0m┛┏\u001b[1m(\u001b[0m-_-\u001b[1m)\u001b[0m┓\n"
            ]
          },
          "metadata": {},
          "output_type": "display_data"
        },
        {
          "data": {
            "text/html": [
              "<pre style=\"white-space:pre;overflow-x:auto;line-height:normal;font-family:Menlo,'DejaVu Sans Mono',consolas,'Courier New',monospace\">\n",
              "\n",
              "</pre>\n"
            ],
            "text/plain": [
              "\n",
              "\n"
            ]
          },
          "metadata": {},
          "output_type": "display_data"
        },
        {
          "data": {
            "text/html": [
              "<pre style=\"white-space:pre;overflow-x:auto;line-height:normal;font-family:Menlo,'DejaVu Sans Mono',consolas,'Courier New',monospace\">You are in the game room\n",
              "</pre>\n"
            ],
            "text/plain": [
              "You are in the game room\n"
            ]
          },
          "metadata": {},
          "output_type": "display_data"
        },
        {
          "data": {
            "text/html": [
              "<pre style=\"white-space:pre;overflow-x:auto;line-height:normal;font-family:Menlo,'DejaVu Sans Mono',consolas,'Courier New',monospace\">\n",
              "\n",
              "</pre>\n"
            ],
            "text/plain": [
              "\n",
              "\n"
            ]
          },
          "metadata": {},
          "output_type": "display_data"
        },
        {
          "data": {
            "text/html": [
              "<pre style=\"white-space:pre;overflow-x:auto;line-height:normal;font-family:Menlo,'DejaVu Sans Mono',consolas,'Courier New',monospace\">You can explore the room with <span style=\"color: #008000; text-decoration-color: #008000\">'explore'</span>,\n",
              "</pre>\n"
            ],
            "text/plain": [
              "You can explore the room with \u001b[32m'explore'\u001b[0m,\n"
            ]
          },
          "metadata": {},
          "output_type": "display_data"
        },
        {
          "data": {
            "text/html": [
              "<pre style=\"white-space:pre;overflow-x:auto;line-height:normal;font-family:Menlo,'DejaVu Sans Mono',consolas,'Courier New',monospace\">You can examine an item with <span style=\"color: #008000; text-decoration-color: #008000\">'examine'</span>, or\n",
              "</pre>\n"
            ],
            "text/plain": [
              "You can examine an item with \u001b[32m'examine'\u001b[0m, or\n"
            ]
          },
          "metadata": {},
          "output_type": "display_data"
        },
        {
          "data": {
            "text/html": [
              "<pre style=\"white-space:pre;overflow-x:auto;line-height:normal;font-family:Menlo,'DejaVu Sans Mono',consolas,'Courier New',monospace\">You can check today's date with <span style=\"color: #008000; text-decoration-color: #008000\">'date'</span>.\n",
              "\n",
              "</pre>\n"
            ],
            "text/plain": [
              "You can check today's date with \u001b[32m'date'\u001b[0m.\n",
              "\n"
            ]
          },
          "metadata": {},
          "output_type": "display_data"
        },
        {
          "data": {
            "text/html": [
              "<pre style=\"white-space:pre;overflow-x:auto;line-height:normal;font-family:Menlo,'DejaVu Sans Mono',consolas,'Courier New',monospace\">\n",
              "\n",
              "</pre>\n"
            ],
            "text/plain": [
              "\n",
              "\n"
            ]
          },
          "metadata": {},
          "output_type": "display_data"
        },
        {
          "data": {
            "text/html": [
              "<pre style=\"white-space:pre;overflow-x:auto;line-height:normal;font-family:Menlo,'DejaVu Sans Mono',consolas,'Courier New',monospace\">You explore the room. This is the game room. You find <span style=\"color: #008000; text-decoration-color: #008000\">'couch'</span>, <span style=\"color: #008000; text-decoration-color: #008000\">'piano'</span>, <span style=\"color: #008000; text-decoration-color: #008000\">'door a'</span>\n",
              "</pre>\n"
            ],
            "text/plain": [
              "You explore the room. This is the game room. You find \u001b[32m'couch'\u001b[0m, \u001b[32m'piano'\u001b[0m, \u001b[32m'door a'\u001b[0m\n"
            ]
          },
          "metadata": {},
          "output_type": "display_data"
        },
        {
          "data": {
            "text/html": [
              "<pre style=\"white-space:pre;overflow-x:auto;line-height:normal;font-family:Menlo,'DejaVu Sans Mono',consolas,'Courier New',monospace\">\n",
              "\n",
              "</pre>\n"
            ],
            "text/plain": [
              "\n",
              "\n"
            ]
          },
          "metadata": {},
          "output_type": "display_data"
        },
        {
          "data": {
            "text/html": [
              "<pre style=\"white-space:pre;overflow-x:auto;line-height:normal;font-family:Menlo,'DejaVu Sans Mono',consolas,'Courier New',monospace\">\n",
              "\n",
              "</pre>\n"
            ],
            "text/plain": [
              "\n",
              "\n"
            ]
          },
          "metadata": {},
          "output_type": "display_data"
        },
        {
          "data": {
            "text/html": [
              "<pre style=\"white-space:pre;overflow-x:auto;line-height:normal;font-family:Menlo,'DejaVu Sans Mono',consolas,'Courier New',monospace\">You can explore the room with <span style=\"color: #008000; text-decoration-color: #008000\">'explore'</span>,\n",
              "</pre>\n"
            ],
            "text/plain": [
              "You can explore the room with \u001b[32m'explore'\u001b[0m,\n"
            ]
          },
          "metadata": {},
          "output_type": "display_data"
        },
        {
          "data": {
            "text/html": [
              "<pre style=\"white-space:pre;overflow-x:auto;line-height:normal;font-family:Menlo,'DejaVu Sans Mono',consolas,'Courier New',monospace\">You can examine an item with <span style=\"color: #008000; text-decoration-color: #008000\">'examine'</span>, or\n",
              "</pre>\n"
            ],
            "text/plain": [
              "You can examine an item with \u001b[32m'examine'\u001b[0m, or\n"
            ]
          },
          "metadata": {},
          "output_type": "display_data"
        },
        {
          "data": {
            "text/html": [
              "<pre style=\"white-space:pre;overflow-x:auto;line-height:normal;font-family:Menlo,'DejaVu Sans Mono',consolas,'Courier New',monospace\">You can check today's date with <span style=\"color: #008000; text-decoration-color: #008000\">'date'</span>.\n",
              "\n",
              "</pre>\n"
            ],
            "text/plain": [
              "You can check today's date with \u001b[32m'date'\u001b[0m.\n",
              "\n"
            ]
          },
          "metadata": {},
          "output_type": "display_data"
        },
        {
          "data": {
            "text/html": [
              "<pre style=\"white-space:pre;overflow-x:auto;line-height:normal;font-family:Menlo,'DejaVu Sans Mono',consolas,'Courier New',monospace\">\n",
              "\n",
              "</pre>\n"
            ],
            "text/plain": [
              "\n",
              "\n"
            ]
          },
          "metadata": {},
          "output_type": "display_data"
        },
        {
          "data": {
            "text/html": [
              "<pre style=\"white-space:pre;overflow-x:auto;line-height:normal;font-family:Menlo,'DejaVu Sans Mono',consolas,'Courier New',monospace\">Here you find <span style=\"color: #008000; text-decoration-color: #008000\">'couch'</span>, <span style=\"color: #008000; text-decoration-color: #008000\">'piano'</span>, <span style=\"color: #008000; text-decoration-color: #008000\">'door a'</span>\n",
              "</pre>\n"
            ],
            "text/plain": [
              "Here you find \u001b[32m'couch'\u001b[0m, \u001b[32m'piano'\u001b[0m, \u001b[32m'door a'\u001b[0m\n"
            ]
          },
          "metadata": {},
          "output_type": "display_data"
        },
        {
          "data": {
            "text/html": [
              "<pre style=\"white-space:pre;overflow-x:auto;line-height:normal;font-family:Menlo,'DejaVu Sans Mono',consolas,'Courier New',monospace\">\n",
              "\n",
              "</pre>\n"
            ],
            "text/plain": [
              "\n",
              "\n"
            ]
          },
          "metadata": {},
          "output_type": "display_data"
        },
        {
          "data": {
            "text/html": [
              "<pre style=\"white-space:pre;overflow-x:auto;line-height:normal;font-family:Menlo,'DejaVu Sans Mono',consolas,'Courier New',monospace\">\n",
              "\n",
              "</pre>\n"
            ],
            "text/plain": [
              "\n",
              "\n"
            ]
          },
          "metadata": {},
          "output_type": "display_data"
        },
        {
          "data": {
            "text/html": [
              "<pre style=\"white-space:pre;overflow-x:auto;line-height:normal;font-family:Menlo,'DejaVu Sans Mono',consolas,'Courier New',monospace\">You are now examining door a. <span style=\"color: #800000; text-decoration-color: #800000; font-weight: bold; text-decoration: underline\">It is locked but you don't have the key.</span>\n",
              "</pre>\n"
            ],
            "text/plain": [
              "You are now examining door a. \u001b[1;4;31mIt is locked but you don't have the key.\u001b[0m\n"
            ]
          },
          "metadata": {},
          "output_type": "display_data"
        },
        {
          "data": {
            "text/html": [
              "<pre style=\"white-space:pre;overflow-x:auto;line-height:normal;font-family:Menlo,'DejaVu Sans Mono',consolas,'Courier New',monospace\">\n",
              "\n",
              "</pre>\n"
            ],
            "text/plain": [
              "\n",
              "\n"
            ]
          },
          "metadata": {},
          "output_type": "display_data"
        },
        {
          "data": {
            "text/html": [
              "<pre style=\"white-space:pre;overflow-x:auto;line-height:normal;font-family:Menlo,'DejaVu Sans Mono',consolas,'Courier New',monospace\">\n",
              "\n",
              "</pre>\n"
            ],
            "text/plain": [
              "\n",
              "\n"
            ]
          },
          "metadata": {},
          "output_type": "display_data"
        },
        {
          "data": {
            "text/html": [
              "<pre style=\"white-space:pre;overflow-x:auto;line-height:normal;font-family:Menlo,'DejaVu Sans Mono',consolas,'Courier New',monospace\">You can explore the room with <span style=\"color: #008000; text-decoration-color: #008000\">'explore'</span>,\n",
              "</pre>\n"
            ],
            "text/plain": [
              "You can explore the room with \u001b[32m'explore'\u001b[0m,\n"
            ]
          },
          "metadata": {},
          "output_type": "display_data"
        },
        {
          "data": {
            "text/html": [
              "<pre style=\"white-space:pre;overflow-x:auto;line-height:normal;font-family:Menlo,'DejaVu Sans Mono',consolas,'Courier New',monospace\">You can examine an item with <span style=\"color: #008000; text-decoration-color: #008000\">'examine'</span>, or\n",
              "</pre>\n"
            ],
            "text/plain": [
              "You can examine an item with \u001b[32m'examine'\u001b[0m, or\n"
            ]
          },
          "metadata": {},
          "output_type": "display_data"
        },
        {
          "data": {
            "text/html": [
              "<pre style=\"white-space:pre;overflow-x:auto;line-height:normal;font-family:Menlo,'DejaVu Sans Mono',consolas,'Courier New',monospace\">You can check today's date with <span style=\"color: #008000; text-decoration-color: #008000\">'date'</span>.\n",
              "\n",
              "</pre>\n"
            ],
            "text/plain": [
              "You can check today's date with \u001b[32m'date'\u001b[0m.\n",
              "\n"
            ]
          },
          "metadata": {},
          "output_type": "display_data"
        }
      ],
      "source": [
        "game_state = INIT_GAME_STATE.copy()\n",
        "\n",
        "start_game()"
      ]
    },
    {
      "cell_type": "code",
      "execution_count": null,
      "metadata": {
        "id": "0wmHr2M61qGp"
      },
      "outputs": [],
      "source": []
    }
  ],
  "metadata": {
    "colab": {
      "provenance": []
    },
    "kernelspec": {
      "display_name": "Python 3",
      "language": "python",
      "name": "python3"
    },
    "language_info": {
      "codemirror_mode": {
        "name": "ipython",
        "version": 3
      },
      "file_extension": ".py",
      "mimetype": "text/x-python",
      "name": "python",
      "nbconvert_exporter": "python",
      "pygments_lexer": "ipython3",
      "version": "3.12.4"
    }
  },
  "nbformat": 4,
  "nbformat_minor": 0
}
